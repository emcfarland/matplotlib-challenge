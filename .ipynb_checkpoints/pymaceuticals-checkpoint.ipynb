{
 "cells": [
  {
   "cell_type": "markdown",
   "metadata": {},
   "source": [
    "## Observations and Insights "
   ]
  },
  {
   "cell_type": "code",
   "execution_count": 54,
   "metadata": {},
   "outputs": [
    {
     "data": {
      "text/html": [
       "<div>\n",
       "<style scoped>\n",
       "    .dataframe tbody tr th:only-of-type {\n",
       "        vertical-align: middle;\n",
       "    }\n",
       "\n",
       "    .dataframe tbody tr th {\n",
       "        vertical-align: top;\n",
       "    }\n",
       "\n",
       "    .dataframe thead th {\n",
       "        text-align: right;\n",
       "    }\n",
       "</style>\n",
       "<table border=\"1\" class=\"dataframe\">\n",
       "  <thead>\n",
       "    <tr style=\"text-align: right;\">\n",
       "      <th></th>\n",
       "      <th>Mouse ID</th>\n",
       "      <th>Drug Regimen</th>\n",
       "      <th>Sex</th>\n",
       "      <th>Age_months</th>\n",
       "      <th>Weight (g)</th>\n",
       "      <th>Timepoint</th>\n",
       "      <th>Tumor Volume (mm3)</th>\n",
       "      <th>Metastatic Sites</th>\n",
       "    </tr>\n",
       "  </thead>\n",
       "  <tbody>\n",
       "    <tr>\n",
       "      <th>0</th>\n",
       "      <td>k403</td>\n",
       "      <td>Ramicane</td>\n",
       "      <td>Male</td>\n",
       "      <td>21</td>\n",
       "      <td>16</td>\n",
       "      <td>0</td>\n",
       "      <td>45.000000</td>\n",
       "      <td>0</td>\n",
       "    </tr>\n",
       "    <tr>\n",
       "      <th>1</th>\n",
       "      <td>k403</td>\n",
       "      <td>Ramicane</td>\n",
       "      <td>Male</td>\n",
       "      <td>21</td>\n",
       "      <td>16</td>\n",
       "      <td>5</td>\n",
       "      <td>38.825898</td>\n",
       "      <td>0</td>\n",
       "    </tr>\n",
       "    <tr>\n",
       "      <th>2</th>\n",
       "      <td>k403</td>\n",
       "      <td>Ramicane</td>\n",
       "      <td>Male</td>\n",
       "      <td>21</td>\n",
       "      <td>16</td>\n",
       "      <td>10</td>\n",
       "      <td>35.014271</td>\n",
       "      <td>1</td>\n",
       "    </tr>\n",
       "    <tr>\n",
       "      <th>3</th>\n",
       "      <td>k403</td>\n",
       "      <td>Ramicane</td>\n",
       "      <td>Male</td>\n",
       "      <td>21</td>\n",
       "      <td>16</td>\n",
       "      <td>15</td>\n",
       "      <td>34.223992</td>\n",
       "      <td>1</td>\n",
       "    </tr>\n",
       "    <tr>\n",
       "      <th>4</th>\n",
       "      <td>k403</td>\n",
       "      <td>Ramicane</td>\n",
       "      <td>Male</td>\n",
       "      <td>21</td>\n",
       "      <td>16</td>\n",
       "      <td>20</td>\n",
       "      <td>32.997729</td>\n",
       "      <td>1</td>\n",
       "    </tr>\n",
       "  </tbody>\n",
       "</table>\n",
       "</div>"
      ],
      "text/plain": [
       "  Mouse ID Drug Regimen   Sex  Age_months  Weight (g)  Timepoint  \\\n",
       "0     k403     Ramicane  Male          21          16          0   \n",
       "1     k403     Ramicane  Male          21          16          5   \n",
       "2     k403     Ramicane  Male          21          16         10   \n",
       "3     k403     Ramicane  Male          21          16         15   \n",
       "4     k403     Ramicane  Male          21          16         20   \n",
       "\n",
       "   Tumor Volume (mm3)  Metastatic Sites  \n",
       "0           45.000000                 0  \n",
       "1           38.825898                 0  \n",
       "2           35.014271                 1  \n",
       "3           34.223992                 1  \n",
       "4           32.997729                 1  "
      ]
     },
     "execution_count": 54,
     "metadata": {},
     "output_type": "execute_result"
    }
   ],
   "source": [
    "# Dependencies and Setup\n",
    "import matplotlib.pyplot as plt\n",
    "import pandas as pd\n",
    "import scipy.stats as st\n",
    "import numpy as np\n",
    "\n",
    "# Study data files\n",
    "mouse_metadata_path = \"data/Mouse_metadata.csv\"\n",
    "study_results_path = \"data/Study_results.csv\"\n",
    "\n",
    "# Read the mouse data and the study results\n",
    "mouse_metadata_df = pd.read_csv(mouse_metadata_path)\n",
    "study_results_df = pd.read_csv(study_results_path)\n",
    "\n",
    "# Combine the data into a single dataset\n",
    "df = pd.merge(mouse_metadata_df, study_results_df, how=\"left\", on=\"Mouse ID\")\n",
    "\n",
    "# Display the data table for preview\n",
    "df.head()"
   ]
  },
  {
   "cell_type": "code",
   "execution_count": 55,
   "metadata": {},
   "outputs": [
    {
     "data": {
      "text/plain": [
       "249"
      ]
     },
     "execution_count": 55,
     "metadata": {},
     "output_type": "execute_result"
    }
   ],
   "source": [
    "# Check the number of mice.\n",
    "num_mice = len(df[\"Mouse ID\"].unique())\n",
    "num_mice"
   ]
  },
  {
   "cell_type": "code",
   "execution_count": 56,
   "metadata": {},
   "outputs": [
    {
     "data": {
      "text/plain": [
       "1"
      ]
     },
     "execution_count": 56,
     "metadata": {},
     "output_type": "execute_result"
    }
   ],
   "source": [
    "# Find any duplicate rows with the same Mouse IDs and Timepoints. \n",
    "dup_mice = df[df.duplicated([\"Mouse ID\", \"Timepoint\"], keep=False)]\n",
    "\n",
    "# Check for number of different mice with duplicates\n",
    "len(dup_mice[\"Mouse ID\"].unique())"
   ]
  },
  {
   "cell_type": "code",
   "execution_count": 57,
   "metadata": {},
   "outputs": [],
   "source": [
    "# Drop any duplicate rows\n",
    "df = df.drop(df.loc[df[\"Mouse ID\"]==dup_mice.iloc[1,0]].index)"
   ]
  },
  {
   "cell_type": "code",
   "execution_count": 58,
   "metadata": {},
   "outputs": [
    {
     "data": {
      "text/plain": [
       "248"
      ]
     },
     "execution_count": 58,
     "metadata": {},
     "output_type": "execute_result"
    }
   ],
   "source": [
    "# Recheck the number of mice\n",
    "num_mice = len(df[\"Mouse ID\"].unique())\n",
    "num_mice"
   ]
  },
  {
   "cell_type": "markdown",
   "metadata": {},
   "source": [
    "## Summary Statistics"
   ]
  },
  {
   "cell_type": "code",
   "execution_count": 106,
   "metadata": {},
   "outputs": [
    {
     "data": {
      "text/html": [
       "<style  type=\"text/css\" >\n",
       "</style><table id=\"T_59ed2b2e_0ca6_11eb_aa17_448500a00d60\" ><caption>Tumor Volume Statistics by Regimen</caption><thead>    <tr>        <th class=\"blank level0\" ></th>        <th class=\"col_heading level0 col0\" >Mean</th>        <th class=\"col_heading level0 col1\" >Median</th>        <th class=\"col_heading level0 col2\" >Variance</th>        <th class=\"col_heading level0 col3\" >Standard Deviation</th>        <th class=\"col_heading level0 col4\" >SEM</th>    </tr>    <tr>        <th class=\"index_name level0\" >Drug Regimen</th>        <th class=\"blank\" ></th>        <th class=\"blank\" ></th>        <th class=\"blank\" ></th>        <th class=\"blank\" ></th>        <th class=\"blank\" ></th>    </tr></thead><tbody>\n",
       "                <tr>\n",
       "                        <th id=\"T_59ed2b2e_0ca6_11eb_aa17_448500a00d60level0_row0\" class=\"row_heading level0 row0\" >Capomulin</th>\n",
       "                        <td id=\"T_59ed2b2e_0ca6_11eb_aa17_448500a00d60row0_col0\" class=\"data row0 col0\" >40.675741</td>\n",
       "                        <td id=\"T_59ed2b2e_0ca6_11eb_aa17_448500a00d60row0_col1\" class=\"data row0 col1\" >41.557809</td>\n",
       "                        <td id=\"T_59ed2b2e_0ca6_11eb_aa17_448500a00d60row0_col2\" class=\"data row0 col2\" >24.947764</td>\n",
       "                        <td id=\"T_59ed2b2e_0ca6_11eb_aa17_448500a00d60row0_col3\" class=\"data row0 col3\" >4.994774</td>\n",
       "                        <td id=\"T_59ed2b2e_0ca6_11eb_aa17_448500a00d60row0_col4\" class=\"data row0 col4\" >0.329346</td>\n",
       "            </tr>\n",
       "            <tr>\n",
       "                        <th id=\"T_59ed2b2e_0ca6_11eb_aa17_448500a00d60level0_row1\" class=\"row_heading level0 row1\" >Ceftamin</th>\n",
       "                        <td id=\"T_59ed2b2e_0ca6_11eb_aa17_448500a00d60row1_col0\" class=\"data row1 col0\" >52.591172</td>\n",
       "                        <td id=\"T_59ed2b2e_0ca6_11eb_aa17_448500a00d60row1_col1\" class=\"data row1 col1\" >51.776157</td>\n",
       "                        <td id=\"T_59ed2b2e_0ca6_11eb_aa17_448500a00d60row1_col2\" class=\"data row1 col2\" >39.290177</td>\n",
       "                        <td id=\"T_59ed2b2e_0ca6_11eb_aa17_448500a00d60row1_col3\" class=\"data row1 col3\" >6.268188</td>\n",
       "                        <td id=\"T_59ed2b2e_0ca6_11eb_aa17_448500a00d60row1_col4\" class=\"data row1 col4\" >0.469821</td>\n",
       "            </tr>\n",
       "            <tr>\n",
       "                        <th id=\"T_59ed2b2e_0ca6_11eb_aa17_448500a00d60level0_row2\" class=\"row_heading level0 row2\" >Infubinol</th>\n",
       "                        <td id=\"T_59ed2b2e_0ca6_11eb_aa17_448500a00d60row2_col0\" class=\"data row2 col0\" >52.884795</td>\n",
       "                        <td id=\"T_59ed2b2e_0ca6_11eb_aa17_448500a00d60row2_col1\" class=\"data row2 col1\" >51.820584</td>\n",
       "                        <td id=\"T_59ed2b2e_0ca6_11eb_aa17_448500a00d60row2_col2\" class=\"data row2 col2\" >43.128684</td>\n",
       "                        <td id=\"T_59ed2b2e_0ca6_11eb_aa17_448500a00d60row2_col3\" class=\"data row2 col3\" >6.567243</td>\n",
       "                        <td id=\"T_59ed2b2e_0ca6_11eb_aa17_448500a00d60row2_col4\" class=\"data row2 col4\" >0.492236</td>\n",
       "            </tr>\n",
       "            <tr>\n",
       "                        <th id=\"T_59ed2b2e_0ca6_11eb_aa17_448500a00d60level0_row3\" class=\"row_heading level0 row3\" >Ketapril</th>\n",
       "                        <td id=\"T_59ed2b2e_0ca6_11eb_aa17_448500a00d60row3_col0\" class=\"data row3 col0\" >55.235638</td>\n",
       "                        <td id=\"T_59ed2b2e_0ca6_11eb_aa17_448500a00d60row3_col1\" class=\"data row3 col1\" >53.698743</td>\n",
       "                        <td id=\"T_59ed2b2e_0ca6_11eb_aa17_448500a00d60row3_col2\" class=\"data row3 col2\" >68.553577</td>\n",
       "                        <td id=\"T_59ed2b2e_0ca6_11eb_aa17_448500a00d60row3_col3\" class=\"data row3 col3\" >8.279709</td>\n",
       "                        <td id=\"T_59ed2b2e_0ca6_11eb_aa17_448500a00d60row3_col4\" class=\"data row3 col4\" >0.603860</td>\n",
       "            </tr>\n",
       "            <tr>\n",
       "                        <th id=\"T_59ed2b2e_0ca6_11eb_aa17_448500a00d60level0_row4\" class=\"row_heading level0 row4\" >Naftisol</th>\n",
       "                        <td id=\"T_59ed2b2e_0ca6_11eb_aa17_448500a00d60row4_col0\" class=\"data row4 col0\" >54.331565</td>\n",
       "                        <td id=\"T_59ed2b2e_0ca6_11eb_aa17_448500a00d60row4_col1\" class=\"data row4 col1\" >52.509285</td>\n",
       "                        <td id=\"T_59ed2b2e_0ca6_11eb_aa17_448500a00d60row4_col2\" class=\"data row4 col2\" >66.173479</td>\n",
       "                        <td id=\"T_59ed2b2e_0ca6_11eb_aa17_448500a00d60row4_col3\" class=\"data row4 col3\" >8.134708</td>\n",
       "                        <td id=\"T_59ed2b2e_0ca6_11eb_aa17_448500a00d60row4_col4\" class=\"data row4 col4\" >0.596466</td>\n",
       "            </tr>\n",
       "            <tr>\n",
       "                        <th id=\"T_59ed2b2e_0ca6_11eb_aa17_448500a00d60level0_row5\" class=\"row_heading level0 row5\" >Placebo</th>\n",
       "                        <td id=\"T_59ed2b2e_0ca6_11eb_aa17_448500a00d60row5_col0\" class=\"data row5 col0\" >54.033581</td>\n",
       "                        <td id=\"T_59ed2b2e_0ca6_11eb_aa17_448500a00d60row5_col1\" class=\"data row5 col1\" >52.288934</td>\n",
       "                        <td id=\"T_59ed2b2e_0ca6_11eb_aa17_448500a00d60row5_col2\" class=\"data row5 col2\" >61.168083</td>\n",
       "                        <td id=\"T_59ed2b2e_0ca6_11eb_aa17_448500a00d60row5_col3\" class=\"data row5 col3\" >7.821003</td>\n",
       "                        <td id=\"T_59ed2b2e_0ca6_11eb_aa17_448500a00d60row5_col4\" class=\"data row5 col4\" >0.581331</td>\n",
       "            </tr>\n",
       "            <tr>\n",
       "                        <th id=\"T_59ed2b2e_0ca6_11eb_aa17_448500a00d60level0_row6\" class=\"row_heading level0 row6\" >Propriva</th>\n",
       "                        <td id=\"T_59ed2b2e_0ca6_11eb_aa17_448500a00d60row6_col0\" class=\"data row6 col0\" >52.320930</td>\n",
       "                        <td id=\"T_59ed2b2e_0ca6_11eb_aa17_448500a00d60row6_col1\" class=\"data row6 col1\" >50.446266</td>\n",
       "                        <td id=\"T_59ed2b2e_0ca6_11eb_aa17_448500a00d60row6_col2\" class=\"data row6 col2\" >43.852013</td>\n",
       "                        <td id=\"T_59ed2b2e_0ca6_11eb_aa17_448500a00d60row6_col3\" class=\"data row6 col3\" >6.622085</td>\n",
       "                        <td id=\"T_59ed2b2e_0ca6_11eb_aa17_448500a00d60row6_col4\" class=\"data row6 col4\" >0.544332</td>\n",
       "            </tr>\n",
       "            <tr>\n",
       "                        <th id=\"T_59ed2b2e_0ca6_11eb_aa17_448500a00d60level0_row7\" class=\"row_heading level0 row7\" >Ramicane</th>\n",
       "                        <td id=\"T_59ed2b2e_0ca6_11eb_aa17_448500a00d60row7_col0\" class=\"data row7 col0\" >40.216745</td>\n",
       "                        <td id=\"T_59ed2b2e_0ca6_11eb_aa17_448500a00d60row7_col1\" class=\"data row7 col1\" >40.673236</td>\n",
       "                        <td id=\"T_59ed2b2e_0ca6_11eb_aa17_448500a00d60row7_col2\" class=\"data row7 col2\" >23.486704</td>\n",
       "                        <td id=\"T_59ed2b2e_0ca6_11eb_aa17_448500a00d60row7_col3\" class=\"data row7 col3\" >4.846308</td>\n",
       "                        <td id=\"T_59ed2b2e_0ca6_11eb_aa17_448500a00d60row7_col4\" class=\"data row7 col4\" >0.320955</td>\n",
       "            </tr>\n",
       "            <tr>\n",
       "                        <th id=\"T_59ed2b2e_0ca6_11eb_aa17_448500a00d60level0_row8\" class=\"row_heading level0 row8\" >Stelasyn</th>\n",
       "                        <td id=\"T_59ed2b2e_0ca6_11eb_aa17_448500a00d60row8_col0\" class=\"data row8 col0\" >54.233149</td>\n",
       "                        <td id=\"T_59ed2b2e_0ca6_11eb_aa17_448500a00d60row8_col1\" class=\"data row8 col1\" >52.431737</td>\n",
       "                        <td id=\"T_59ed2b2e_0ca6_11eb_aa17_448500a00d60row8_col2\" class=\"data row8 col2\" >59.450562</td>\n",
       "                        <td id=\"T_59ed2b2e_0ca6_11eb_aa17_448500a00d60row8_col3\" class=\"data row8 col3\" >7.710419</td>\n",
       "                        <td id=\"T_59ed2b2e_0ca6_11eb_aa17_448500a00d60row8_col4\" class=\"data row8 col4\" >0.573111</td>\n",
       "            </tr>\n",
       "            <tr>\n",
       "                        <th id=\"T_59ed2b2e_0ca6_11eb_aa17_448500a00d60level0_row9\" class=\"row_heading level0 row9\" >Zoniferol</th>\n",
       "                        <td id=\"T_59ed2b2e_0ca6_11eb_aa17_448500a00d60row9_col0\" class=\"data row9 col0\" >53.236507</td>\n",
       "                        <td id=\"T_59ed2b2e_0ca6_11eb_aa17_448500a00d60row9_col1\" class=\"data row9 col1\" >51.818479</td>\n",
       "                        <td id=\"T_59ed2b2e_0ca6_11eb_aa17_448500a00d60row9_col2\" class=\"data row9 col2\" >48.533355</td>\n",
       "                        <td id=\"T_59ed2b2e_0ca6_11eb_aa17_448500a00d60row9_col3\" class=\"data row9 col3\" >6.966589</td>\n",
       "                        <td id=\"T_59ed2b2e_0ca6_11eb_aa17_448500a00d60row9_col4\" class=\"data row9 col4\" >0.516398</td>\n",
       "            </tr>\n",
       "    </tbody></table>"
      ],
      "text/plain": [
       "<pandas.io.formats.style.Styler at 0x1a99227de48>"
      ]
     },
     "execution_count": 106,
     "metadata": {},
     "output_type": "execute_result"
    }
   ],
   "source": [
    "# Generate a summary statistics table of mean, median, variance, \n",
    "# standard deviation, and SEM of the tumor volume for each regimen.\n",
    "drug_gb = df.groupby(\"Drug Regimen\")\n",
    "\n",
    "summary = pd.DataFrame({\n",
    "    \"Mean\": drug_gb[\"Tumor Volume (mm3)\"].mean(),\n",
    "    \"Median\": drug_gb[\"Tumor Volume (mm3)\"].median(),\n",
    "    \"Variance\": drug_gb[\"Tumor Volume (mm3)\"].var(),\n",
    "    \"Standard Deviation\": drug_gb[\"Tumor Volume (mm3)\"].std(),\n",
    "    \"SEM\": drug_gb[\"Tumor Volume (mm3)\"].sem()\n",
    "})\n",
    "summary.style.set_caption(\"Tumor Volume Statistics by Regimen\")"
   ]
  },
  {
   "cell_type": "markdown",
   "metadata": {},
   "source": [
    "## Bar and Pie Charts"
   ]
  },
  {
   "cell_type": "code",
   "execution_count": 60,
   "metadata": {},
   "outputs": [
    {
     "data": {
      "text/plain": [
       "<matplotlib.axes._subplots.AxesSubplot at 0x1a991135048>"
      ]
     },
     "execution_count": 60,
     "metadata": {},
     "output_type": "execute_result"
    },
    {
     "data": {
      "image/png": "[encoded data removed]",
      "text/plain": [
       "<Figure size 432x288 with 1 Axes>"
      ]
     },
     "metadata": {
      "needs_background": "light"
     },
     "output_type": "display_data"
    }
   ],
   "source": [
    "# Generate a bar plot showing the total number of datapoints for each drug regimen using pandas.\n",
    "# There should be a single bar per regimen\n",
    "df[\"Drug Regimen\"].value_counts().plot.bar()\n"
   ]
  },
  {
   "cell_type": "code",
   "execution_count": 61,
   "metadata": {},
   "outputs": [
    {
     "data": {
      "text/plain": [
       "([<matplotlib.axis.XTick at 0x1a9911c77f0>,\n",
       "  <matplotlib.axis.XTick at 0x1a9911c77b8>,\n",
       "  <matplotlib.axis.XTick at 0x1a9911b3128>,\n",
       "  <matplotlib.axis.XTick at 0x1a9911facf8>,\n",
       "  <matplotlib.axis.XTick at 0x1a991204320>,\n",
       "  <matplotlib.axis.XTick at 0x1a9912047b8>,\n",
       "  <matplotlib.axis.XTick at 0x1a991204c50>,\n",
       "  <matplotlib.axis.XTick at 0x1a99120c160>,\n",
       "  <matplotlib.axis.XTick at 0x1a99120c5c0>,\n",
       "  <matplotlib.axis.XTick at 0x1a99120ca58>],\n",
       " [Text(0, 0, 'Ramicane'),\n",
       "  Text(0, 0, 'Capomulin'),\n",
       "  Text(0, 0, 'Infubinol'),\n",
       "  Text(0, 0, 'Placebo'),\n",
       "  Text(0, 0, 'Ceftamin'),\n",
       "  Text(0, 0, 'Stelasyn'),\n",
       "  Text(0, 0, 'Zoniferol'),\n",
       "  Text(0, 0, 'Ketapril'),\n",
       "  Text(0, 0, 'Propriva'),\n",
       "  Text(0, 0, 'Naftisol')])"
      ]
     },
     "execution_count": 61,
     "metadata": {},
     "output_type": "execute_result"
    },
    {
     "data": {
      "image/png": "[encoded data removed]",
      "text/plain": [
       "<Figure size 432x288 with 1 Axes>"
      ]
     },
     "metadata": {
      "needs_background": "light"
     },
     "output_type": "display_data"
    }
   ],
   "source": [
    "# General identical bar plot using pyplot instead of pandas.\n",
    "x_axis = df[\"Drug Regimen\"].unique()\n",
    "tick_locations = [value for value in x_axis]\n",
    "\n",
    "plt.bar(x_axis, df[\"Drug Regimen\"].value_counts(), align=\"center\")\n",
    "plt.xticks(tick_locations, df[\"Drug Regimen\"].unique(), rotation=\"vertical\")"
   ]
  },
  {
   "cell_type": "code",
   "execution_count": 62,
   "metadata": {},
   "outputs": [
    {
     "data": {
      "text/plain": [
       "<matplotlib.axes._subplots.AxesSubplot at 0x1a99122ca20>"
      ]
     },
     "execution_count": 62,
     "metadata": {},
     "output_type": "execute_result"
    },
    {
     "data": {
      "image/png": "[encoded data removed]",
      "text/plain": [
       "<Figure size 432x288 with 1 Axes>"
      ]
     },
     "metadata": {},
     "output_type": "display_data"
    }
   ],
   "source": [
    "# Generate a pie plot showing the distribution of female versus male mice using pandas\n",
    "df[\"Sex\"].value_counts().plot.pie()\n"
   ]
  },
  {
   "cell_type": "code",
   "execution_count": 63,
   "metadata": {},
   "outputs": [
    {
     "data": {
      "text/plain": [
       "([<matplotlib.patches.Wedge at 0x1a992261c88>,\n",
       "  <matplotlib.patches.Wedge at 0x1a99226f208>],\n",
       " [Text(-0.03308201408261547, 1.0995024239828841, ''),\n",
       "  Text(0.033082014082615095, -1.0995024239828841, '')])"
      ]
     },
     "execution_count": 63,
     "metadata": {},
     "output_type": "execute_result"
    },
    {
     "data": {
      "image/png": "[encoded data removed]",
      "text/plain": [
       "<Figure size 432x288 with 1 Axes>"
      ]
     },
     "metadata": {},
     "output_type": "display_data"
    }
   ],
   "source": [
    "# Generate identical pie plot using pyplot\n",
    "plt.pie(df[\"Sex\"].value_counts())\n"
   ]
  },
  {
   "cell_type": "markdown",
   "metadata": {},
   "source": [
    "## Quartiles, Outliers and Boxplots"
   ]
  },
  {
   "cell_type": "code",
   "execution_count": 64,
   "metadata": {},
   "outputs": [],
   "source": [
    "##### Calculate the final tumor volume of each mouse across four of the treatment regimens:  \n",
    "# Capomulin, Ramicane, Infubinol, and Ceftamin\n",
    "\n",
    "# HINT: Not all mice lived until timepoint 45\n",
    "# Start by getting the last (greatest) timepoint for each mouse\n",
    "mouse_gb = df.groupby(\"Mouse ID\")[\"Timepoint\"].transform(max) == df[\"Timepoint\"]\n",
    "\n",
    "# Merge this group df with the original dataframe to get the tumor volume at the last timepoint\n",
    "df[\"Final Tumor Volume\"] = df[mouse_gb][\"Tumor Volume (mm3)\"]"
   ]
  },
  {
   "cell_type": "markdown",
   "metadata": {},
   "source": [
    "Calculate the quartiles and IQR and quantitatively determine if there are any potential outliers across all four treatment regimens."
   ]
  },
  {
   "cell_type": "code",
   "execution_count": 105,
   "metadata": {},
   "outputs": [
    {
     "name": "stdout",
     "output_type": "stream",
     "text": [
      "The IQR for Capomulin is 7.7819. \n",
      "Values below 20.7046 could be outliers.\n",
      "Values above 51.832 could be outliers.\n",
      "The IQR for Ramicane is 9.0985. \n",
      "Values below 17.9127 could be outliers.\n",
      "Values above 54.3068 could be outliers.\n",
      "The IQR for Infubinol is 11.4771. \n",
      "Values below 36.8329 could be outliers.\n",
      "Values above 82.7414 could be outliers.\n",
      "**Infubinol could have outliers.**\n",
      "The IQR for Ceftamin is 15.5778. \n",
      "Values below 25.3554 could be outliers.\n",
      "Values above 87.6665 could be outliers.\n"
     ]
    }
   ],
   "source": [
    "# Calculate quartiles, IQR, and identify potential outliers for each regimen.\n",
    "\n",
    "# Put treatments into a list for for loop (and later for plot labels)\n",
    "regimens = [\"Capomulin\", \"Ramicane\", \"Infubinol\", \"Ceftamin\"]\n",
    "\n",
    "\n",
    "fin_tumor_vol = {\n",
    "    regimens[0]: df[\"Final Tumor Volume\"].loc[(df[\"Drug Regimen\"] == regimens[0]) & df[\"Final Tumor Volume\"]].tolist(),\n",
    "    regimens[1]: df[\"Final Tumor Volume\"].loc[(df[\"Drug Regimen\"] == regimens[1]) & df[\"Final Tumor Volume\"]].tolist(),\n",
    "    regimens[2]: df[\"Final Tumor Volume\"].loc[(df[\"Drug Regimen\"] == regimens[2]) & df[\"Final Tumor Volume\"]].tolist(),\n",
    "    regimens[3]: df[\"Final Tumor Volume\"].loc[(df[\"Drug Regimen\"] == regimens[3]) & df[\"Final Tumor Volume\"]].tolist()\n",
    "}\n",
    "\n",
    "#cap_list = df[\"Final Tumor Volume\"].loc[(df[\"Drug Regimen\"] == regimens[0]) & df[\"Final Tumor Volume\"]].tolist()\n",
    "#cap_list\n",
    "# Calculate the IQR and quantitatively determine if there are any potential outliers. \n",
    "\n",
    "for key in fin_tumor_vol.keys():\n",
    "    lowerq = np.quantile(fin_tumor_vol[key], .25)\n",
    "    upperq = np.quantile(fin_tumor_vol[key], .75)\n",
    "    iqr = upperq-lowerq\n",
    "    lower_bound = lowerq - (1.5*iqr)\n",
    "    upper_bound = upperq + (1.5*iqr)\n",
    "    print(f\"The IQR for {key} is {round(iqr,4)}. \")\n",
    "    print(f\"Values below {round(lower_bound,4)} could be outliers.\")\n",
    "    print(f\"Values above {round(upper_bound,4)} could be outliers.\")\n",
    "    if np.any(fin_tumor_vol[key] > upper_bound) | np.any(fin_tumor_vol[key] < lower_bound):\n",
    "        print(f\"**{key} could have outliers.**\")\n",
    "    "
   ]
  },
  {
   "cell_type": "code",
   "execution_count": 100,
   "metadata": {},
   "outputs": [
    {
     "data": {
      "image/png": "[encoded data removed]",
      "text/plain": [
       "<Figure size 432x288 with 1 Axes>"
      ]
     },
     "metadata": {
      "needs_background": "light"
     },
     "output_type": "display_data"
    }
   ],
   "source": [
    "# Generate a box plot of the final tumor volume of each mouse across four regimens of interest\n",
    "# There should be a single chart with four box plots inside it.\n",
    "labels, data = fin_tumor_vol.keys(), fin_tumor_vol.values()\n",
    "\n",
    "plt.boxplot(data)\n",
    "plt.xticks(range(1, len(labels) + 1), labels)\n",
    "plt.xlabel(\"Drug Regimen\")\n",
    "plt.ylabel(\"Final Tumor Volume (mm3)\")\n",
    "plt.title(\"Final Tumor Volume Distribution by Drug Regimen\")\n",
    "plt.show()"
   ]
  },
  {
   "cell_type": "markdown",
   "metadata": {},
   "source": [
    "## Line and Scatter Plots"
   ]
  },
  {
   "cell_type": "code",
   "execution_count": null,
   "metadata": {},
   "outputs": [],
   "source": [
    "# Generate a line plot of tumor volume vs. time point for a single mouse \n",
    "# treated with Capomulin\n"
   ]
  },
  {
   "cell_type": "code",
   "execution_count": null,
   "metadata": {},
   "outputs": [],
   "source": [
    "# Generate a scatter plot of average tumor volume vs. mouse weight \n",
    "# for all mice in the Capomulin regimen\n"
   ]
  },
  {
   "cell_type": "markdown",
   "metadata": {},
   "source": [
    "## Correlation and Regression"
   ]
  },
  {
   "cell_type": "code",
   "execution_count": null,
   "metadata": {},
   "outputs": [],
   "source": [
    "# Calculate the correlation coefficient and linear regression model \n",
    "# for mouse weight and average tumor volume for the Capomulin regimen\n"
   ]
  },
  {
   "cell_type": "markdown",
   "metadata": {},
   "source": [
    "# Observations and Insights"
   ]
  },
  {
   "cell_type": "markdown",
   "metadata": {},
   "source": []
  }
 ],
 "metadata": {
  "anaconda-cloud": {},
  "kernelspec": {
   "display_name": "Python 3",
   "language": "python",
   "name": "python3"
  },
  "language_info": {
   "codemirror_mode": {
    "name": "ipython",
    "version": 3
   },
   "file_extension": ".py",
   "mimetype": "text/x-python",
   "name": "python",
   "nbconvert_exporter": "python",
   "pygments_lexer": "ipython3",
   "version": "3.6.10"
  },
  "toc": {
   "base_numbering": 1,
   "nav_menu": {},
   "number_sections": true,
   "sideBar": true,
   "skip_h1_title": false,
   "title_cell": "Table of Contents",
   "title_sidebar": "Contents",
   "toc_cell": false,
   "toc_position": {},
   "toc_section_display": true,
   "toc_window_display": false
  },
  "varInspector": {
   "cols": {
    "lenName": 16,
    "lenType": 16,
    "lenVar": 40
   },
   "kernels_config": {
    "python": {
     "delete_cmd_postfix": "",
     "delete_cmd_prefix": "del ",
     "library": "var_list.py",
     "varRefreshCmd": "print(var_dic_list())"
    },
    "r": {
     "delete_cmd_postfix": ") ",
     "delete_cmd_prefix": "rm(",
     "library": "var_list.r",
     "varRefreshCmd": "cat(var_dic_list()) "
    }
   },
   "types_to_exclude": [
    "module",
    "function",
    "builtin_function_or_method",
    "instance",
    "_Feature"
   ],
   "window_display": false
  }
 },
 "nbformat": 4,
 "nbformat_minor": 4
}
